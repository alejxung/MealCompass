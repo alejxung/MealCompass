{
 "cells": [
  {
   "cell_type": "code",
   "execution_count": 1,
   "metadata": {},
   "outputs": [],
   "source": [
    "import pandas as pd\n",
    "\n",
    "df_bluer = pd.read_csv('./data/bluer.csv')\n",
    "df_michelin = pd.read_csv('./data/michelin.csv')"
   ]
  },
  {
   "cell_type": "code",
   "execution_count": 2,
   "metadata": {},
   "outputs": [],
   "source": [
    "df_bluer = df_bluer.rename(columns={'review':'review_b'})\n",
    "df_bluer = df_bluer.rename(columns={'priceRange':'priceRange_b'})\n",
    "df_michelin = df_michelin.rename(columns={'review':'review_m'})\n",
    "df_michelin = df_michelin.rename(columns={'priceRange':'priceRange_m'})"
   ]
  },
  {
   "cell_type": "code",
   "execution_count": 3,
   "metadata": {},
   "outputs": [],
   "source": [
    "# remove whitespace (return, newline, tab)\n",
    "for column in df_bluer.columns:\n",
    "  df_bluer[column] = df_bluer[column].apply(str).str.replace(r'\\r+|\\n+|\\t+',' ', regex=True)\n",
    "for column in df_michelin.columns:\n",
    "  df_michelin[column] = df_michelin[column].apply(str).str.replace(r'\\r+|\\n+|\\t+',' ', regex=True)"
   ]
  },
  {
   "cell_type": "code",
   "execution_count": 4,
   "metadata": {},
   "outputs": [],
   "source": [
    "def modify_phone_number(phone):\n",
    "  if not (len(phone.split(\"-\")) > 1):\n",
    "    return\n",
    "  parts = phone.split('-')\n",
    "  if (len(parts[1]) == 5):\n",
    "    swap = list(phone)\n",
    "    swap[3], swap[4] = swap[4], swap[3]\n",
    "    return ''.join(swap)\n",
    "  return phone"
   ]
  },
  {
   "cell_type": "code",
   "execution_count": 5,
   "metadata": {},
   "outputs": [],
   "source": [
    "df_michelin['phone'] = df_michelin['phone'].str.replace('+82 ', '0')\n",
    "df_michelin['phone'] = df_michelin['phone'].str.replace('[]', '')\n",
    "df_michelin['phone'] = df_michelin['phone'].apply(modify_phone_number)"
   ]
  },
  {
   "cell_type": "code",
   "execution_count": 6,
   "metadata": {},
   "outputs": [],
   "source": [
    "df_merged = df_bluer.merge(df_michelin, on='phone', how='outer', suffixes=('_bluer', '_michelin'))\n",
    "\n",
    "# Iterate over columns and prioritize df_bluer values, filling in from df_michelin where necessary\n",
    "for column in df_bluer.columns:\n",
    "    if column != 'phone':\n",
    "        if column in df_michelin.columns:\n",
    "            # Combine values from both DataFrames, prioritizing df_bluer\n",
    "            df_merged[column] = df_merged[column + '_bluer'].combine_first(df_merged[column + '_michelin'])\n",
    "            # Drop the temporary columns\n",
    "            df_merged.drop(columns=[column + '_bluer', column + '_michelin'], inplace=True)\n",
    "        else:\n",
    "            # Just rename the column from df_bluer\n",
    "            df_merged.rename(columns={column + '_bluer': column}, inplace=True)\n",
    "\n",
    "# Handle columns that are only in df_michelin but not in df_bluer\n",
    "for column in df_michelin.columns:\n",
    "    if column not in df_bluer.columns and column != 'phone':\n",
    "        # Rename the michelin columns to remove the suffix\n",
    "        df_merged.rename(columns={column + '_michelin': column}, inplace=True)\n",
    "\n",
    "df_merged = df_merged[['id', 'name', 'category', 'phone', 'address', 'latitude', 'longitude', 'businessHours', 'dayOff', 'parking', \\\n",
    "                       'services', 'menu', 'priceRange_b', 'priceRange_m', 'review_b', 'review_m', 'ribbonType', 'michelinType' ]]\n",
    "df_merged = df_merged.sort_values(by='id')\n",
    "\n",
    "# Export the final merged DataFrame to CSV\n",
    "df_merged.to_csv('./data/processed_b_m.csv', index=False)"
   ]
  },
  {
   "cell_type": "code",
   "execution_count": 7,
   "metadata": {},
   "outputs": [],
   "source": [
    "df_bluer.to_csv('./data/p_bluer.csv')\n",
    "df_michelin.to_csv(\"./data/p_michelin.csv\")"
   ]
  }
 ],
 "metadata": {
  "kernelspec": {
   "display_name": ".venv",
   "language": "python",
   "name": "python3"
  },
  "language_info": {
   "codemirror_mode": {
    "name": "ipython",
    "version": 3
   },
   "file_extension": ".py",
   "mimetype": "text/x-python",
   "name": "python",
   "nbconvert_exporter": "python",
   "pygments_lexer": "ipython3",
   "version": "3.12.0"
  }
 },
 "nbformat": 4,
 "nbformat_minor": 2
}
