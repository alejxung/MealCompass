{
 "cells": [
  {
   "cell_type": "code",
   "execution_count": 1,
   "metadata": {},
   "outputs": [],
   "source": [
    "import pandas as pd\n",
    "import numpy as np\n",
    "import re\n",
    "import sys\n",
    "import ast\n",
    "\n",
    "df = pd.read_csv('./data/p_combined_modified.csv')\n",
    "np.set_printoptions(threshold=sys.maxsize)"
   ]
  },
  {
   "cell_type": "code",
   "execution_count": 2,
   "metadata": {},
   "outputs": [],
   "source": [
    "## Category ##\n",
    "def string_to_list(s):\n",
    "    s = s.strip(\"[]\")\n",
    "    return [part.strip().strip(\"'\\\"\") for part in s.split(',')]\n",
    "\n",
    "def convert_to_list_or_string(x):\n",
    "    if isinstance(x, str):\n",
    "        if '[' in x and ']' in x:\n",
    "            try:\n",
    "                return ast.literal_eval(x)\n",
    "            except ValueError:\n",
    "                return string_to_list(x)\n",
    "        else:\n",
    "            return string_to_list(x)\n",
    "    else:\n",
    "        return x\n",
    "\n",
    "df['category'] = df['category'].apply(convert_to_list_or_string)"
   ]
  },
  {
   "cell_type": "code",
   "execution_count": 3,
   "metadata": {},
   "outputs": [],
   "source": [
    "## Services/Parking ##\n",
    "if df['services'].isnull().any():\n",
    "    df['services'] = df['services'].fillna('[]')\n",
    "df['services'] = df['services'].apply(ast.literal_eval)\n",
    "\n",
    "df['services'] = df['services'].apply(\n",
    "    lambda service_list: ['발레파킹' if service == '발렛파킹' else service for service in service_list]\n",
    ")\n",
    "\n",
    "def extract_parking_details(parking):\n",
    "    if pd.isnull(parking):\n",
    "        return '불가', None\n",
    "    if isinstance(parking, str):\n",
    "        parking = parking.strip()\n",
    "        match = re.match(r'(가능|불가|발레 파킹)\\s*\\(([^)]+)\\)', parking)\n",
    "        if match:\n",
    "            return match.group(1), match.group(2)\n",
    "        else:\n",
    "            return parking, None\n",
    "    else:\n",
    "        return parking, None\n",
    "\n",
    "df[['parking', 'parkingDetail']] = df['parking'].apply(lambda x: pd.Series(extract_parking_details(x)))\n",
    "\n",
    "def process_parking_and_services(row):\n",
    "    parking = row['parking']\n",
    "    services = row['services']\n",
    "    \n",
    "    if isinstance(parking, str) and '발레' in parking:\n",
    "        parking = '가능'\n",
    "        if '발레파킹' not in services:\n",
    "            services.append('발레파킹')\n",
    "    \n",
    "    return parking, services\n",
    "\n",
    "df[['parking', 'services']] = df.apply(lambda row: pd.Series(process_parking_and_services(row)), axis=1)"
   ]
  },
  {
   "cell_type": "code",
   "execution_count": 4,
   "metadata": {},
   "outputs": [],
   "source": [
    "## Price ##\n",
    "df['priceRange_b'] = df['priceRange_b'].str.strip()\n",
    "\n",
    "conditions = [\n",
    "    (df['priceRange_b'] == '1만원 미만') | (df['priceRange_b'] == '1~2만원대'),\n",
    "    (df['priceRange_b'] == '2~5만원대'),\n",
    "    (df['priceRange_b'] == '5~10만원대') | (df['priceRange_b'] == '10~15만원대'),\n",
    "    (df['priceRange_b'] == '15~25만원대') | (df['priceRange_b'] == '25만원 이상'),\n",
    "    (df['priceRange_b'].isna()) & (df['priceRange_m'] == '₩'),\n",
    "    (df['priceRange_b'].isna()) & (df['priceRange_m'] == '₩₩'),\n",
    "    (df['priceRange_b'].isna()) & (df['priceRange_m'] == '₩₩₩'),\n",
    "    (df['priceRange_b'].isna()) & (df['priceRange_m'] == '₩₩₩₩')\n",
    "]\n",
    "\n",
    "values = ['$', '$$', '$$$', '$$$$', '$', '$$', '$$$', '$$$$'] \n",
    "df['price'] = np.select(conditions, values, default='')"
   ]
  },
  {
   "cell_type": "code",
   "execution_count": 5,
   "metadata": {},
   "outputs": [
    {
     "name": "stdout",
     "output_type": "stream",
     "text": [
      "\n",
      "[category]\n",
      "['LP바', '가맥집', '가오리', '가이세키', '가자미', '각재기', '간자미', '갈비탕', '갈치', '감자옹심이', '감자탕', '갓포요리', '개성음식', '갯장어', '게국지', '게장', '경상도음식', '경양식', '고기국수', '고등어', '고래', '고로케', '곤드레밥', '골뱅이', '곰장어', '곰치', '곰탕', '곱창국밥', '곱창전골', '과메기', '과일카페', '광동식중식', '구움과자', '국수', '굴', '굴국밥', '굴밥', '굴비', '그리스식', '그릴', '기타', '김밥', '김치찌개', '김치찜', '꼬리곰탕', '꼬막', '꽃게', '꽈배기', '꾹저구', '꿩', '낙지', '남도음식', '남아프리카공화국식', '냉면', '네팔식', '녹차', '뇨키', '뉴아메리칸', '뉴코리안', '다금바리', '다슬기', '다이닝바', '다이닝펍', '다이어트식', '단팥죽', '닭갈비', '닭강정', '닭개장', '닭곰탕', '닭구이', '닭꼬치', '닭내장', '닭도가니탕', '닭똥집', '닭무침', '닭발', '닭백숙', '닭볶음탕', '닭수육', '닭한마리', '대게', '대구', '대구탕', '대만식중식', '대통밥', '대하구이', '더덕', '덕자', '덮밥', '데판야키', '덴푸라', '델리', '도가니탕', '도넛', '도다리쑥국', '도루묵', '도리뱅뱅이', '독일식', '돈가스', '돔베고기', '동남아시아식', '동북식중식', '동태', '돼지갈비', '돼지갈비찜', '돼지고기구이', '돼지고기찌개', '돼지곰탕', '돼지곱창', '돼지국밥', '돼지껍데기', '돼지두루치기', '돼지등갈비', '돼지떡갈비', '돼지막창', '돼지불고기', '돼지족탕', '된장찌개', '두부', '두부두루치기', '두부전골', '디저트/차/베이커리', '디저트카페', '딤섬', '떡', '떡국', '떡볶이', '떡카페', '떡케이크', '라멘', '라면', '라오스식', '라운지바', '램스테이크', '러시아식', '로바다야키', '롤', '루프탑바', '마늘치킨', '마라곱창', '마라룽샤', '마라샹궈', '마라탕', '마제소바', '마카롱', '마파두부', '막걸리전문점', '막국수', '만두', '만두전골', '만둣국', '말고기', '말레이시아식', '멍게', '멍게비빔밥', '메기', '메밀', '메밀국수', '멕시칸', '멕시코식', '멧돼지고기', '멸치', '명태순대', '모던재패니즈', '모던차이니즈', '모던한식', '모로코식', '모츠나베', '몸국', '무국적술집', '묵', '묵밥', '문어', '물냉면', '물메기', '물회', '미국식', '미국식중식', '미국식피자', '미역국', '미트파이', '민물매운탕', '민물새우', '민물생선찜', '민물생선튀김', '민물생선회', '민어', '밀면', '바', '바/주점', '바닷가재', '바비큐', '바비큐치킨', '바지락', '방어', '백반', '백합', '밴댕이', '버섯', '버섯전골', '베이글', '베이커리', '베트남식', '벤토', '병어', '보리밥', '보쌈', '복', '부대찌개', '북경식중식', '북경오리', '북어찜', '북엇국', '북유럽식', '북카페', '분식', '분자요리', '붕어찜', '붕장어', '뷔페', '뷔페_채식', '뷔페_한식', '뷔페_해산물', '브라질식', '브런치카페', '비건', '비빔국수', '비빔냉면', '비빔밥', '비지', '빈대떡', '빙수', '뼈다귀해장국', '사슴고기', '사찰요리', '사천식중식', '사케바', '사탕', '산채비빔밥', '산채정식', '산천어', '삼겹살', '삼계탕', '삼숙이', '삼치', '새우', '새조개', '샌드위치', '샐러드', '생고기', '생선구이', '생선매운탕', '생선조림', '생선찌개', '생선찜', '생선회', '생태', '샤부샤부', '샤오룽바오', '샤퀴테리', '샴페인바', '서대', '서양차전문점', '선지해장국', '설렁탕', '섭', '성게국', '성게알', '세꼬시', '세이로무시', '센베이', '소갈비', '소갈비찜', '소고기경단', '소고기구이', '소고기국밥', '소꼬리찜', '소내장탕', '소떡갈비', '소막창', '소머리국밥', '소바', '소불고기', '송어', '송이', '솥밥', '수구레국밥', '수구레전골', '수육', '수제비', '수프', '수프카레', '순대', '순대국밥', '순대전골', '순댓국', '순두부', '스시', '스웨덴식', '스위스식', '스지탕', '스콘', '스키야키', '스테이크', '스페인식', '시락국', '시래기', '시리아식', '식빵', '실치', '싱가포르식', '싱가포르식중식', '쌈밥', '쏙', '아강발', '아귀', '아르헨티나식', '아시아식', '아이스크림', '아프리카식', '알탕', '애저', '애호박찌개', '야키니쿠', '야키소바', '야키토리', '약선요리', '양갱', '양고기', '양곱창', '양꼬치', '양식', '어묵', '어복쟁반', '어죽', '어탕국수', '에그타르트', '에스프레소바', '연어전문점', '연잎밥', '염소고기', '영국식', '오골계', '오뎅바', '오리', '오리로스', '오리백숙', '오리불고기', '오리탕', '오므라이스', '오분자기', '오삼불고기', '오이스터바', '오징어', '오징어순대', '오코노미야키', '옻닭', '와인바', '와플', '완탕', '요거트', '요르단식', '요리주점', '용봉탕', '우거지해장국', '우대갈비', '우동', '우럭', '우렁', '우렁된장', '우육면', '우족탕', '우즈베키스탄식', '웅어', '위스키바', '유러피언', '유럽식', '육개장', '육사시미', '육전', '육회', '은어', '이노베이티브퀴진', '이란식', '이북음식', '이자카야', '이탈리아식', '이탤리언', '인도네시아식', '인도식', '일반중식', '일반한식', '일본가정식', '일본디저트', '일본차전문점', '일식', '일식꼬치', '일식닭구이', '일식덮밥', '일식돈가스', '일식복어', '일식샤부샤부', '일식솥밥', '일식오마카세', '일식우동', '일식장어', '일식징기스칸', '일식카레', '잉어', '자라', '자리돔', '잔치국수', '장어', '재즈바', '재첩', '전', '전갱이', '전기구이통닭', '전복', '전복죽', '전어', '전통차전문점', '제육', '제주음식', '젤라토', '조개구이', '조개찜', '조개탕', '족발', '졸복', '주꾸미', '주먹밥', '주스전문점', '죽', '죽순', '준치', '중국과자', '중국만두', '중국빵', '중국식국수', '중국식콩국', '중국차전문점', '중남미식', '중동식', '중식', '중식주점', '쥐치', '지중해식', '진주냉면', '짬뽕전문점', '짱뚱어', '쫄면', '찐빵', '찜닭', '참게', '참치', '철판볶음밥', '청국장', '청둥오리', '체코식', '체험카페', '초계국수', '초계탕', '초콜릿', '추어탕', '츄러스', '칡국수', '칡냉면', '카레', '카레우동', '카이막', '카이센동', '카페', '칵테일바', '칼국수', '캐러멜', '캐비아바', '캐주얼다이닝', '커피전문점', '컨템퍼러리', '컨템포러리', '컵케이크', '케이크', '코다리', '콩국', '콩국수', '콩나물국밥', '콩나물밥', '콩비지', '쿠바식', '쿠시아게', '쿠키', '크래프트맥주바', '크랩', '크레프', '크로플', '크루아상', '키조개', '타르트', '타이', '타이완', '타파스바', '탕수육전문점', '태국식', '텐동', '토끼고기', '토스트', '통닭', '튀김', '튀니지식', '튀르키예식', '티베트식', '파스타', '파이', '파전', '팥빵', '팥죽', '팥칼국수', '팬케이크', '펍', '페이스트리', '평양냉면', '포르투갈식', '포카치아', '포케', '푸딩', '퓨전', '퓨전일식', '퓨전중식', '퓨전한식', '프라이드치킨', '프랑스식', '프렌치', '프렌치비스트로', '피자', '하와이식', '한과', '한식', '한식(가금류)', '한식(면류)', '한식(민물어패류)', '한식(어패류)', '한식(육류)', '한식(일반한식)', '한식(탕/국/찌개/전골)', '한식디저트', '한식주점', '한우오마카세', '한정식', '한치', '함박스테이크', '함흥냉면', '핫도그', '해물', '해물장', '해물전골', '해물찜', '해물탕', '해물포차', '햄버거', '향어', '헬스푸드', '호남식중식', '호두과자', '호떡', '호루몬', '호주식', '호주식브런치', '호프', '홍게', '홍어', '홍콩식중식', '홍합', '황복', '황태', '황해도냉면', '회국수', '회덮밥', '회백반', '회전스시', '후토마키', '훠궈', '흑염소떡갈비']\n",
      "type:<class 'list'>\n",
      "\n",
      "[services]\n",
      "['발레파킹', '신발을 벗고 올라오세요', '아주 좋은 와인 리스트', '에어컨', '전망이 좋은', '좋은 사케 리스트', '주차장', '채식메뉴 제공', '카운터 테이블', '테라스', '휠체어 가능']\n",
      "type:<class 'list'>\n",
      "\n",
      "[parking]\n",
      "['가능' '불가']\n",
      "type:<class 'numpy.ndarray'>\n",
      "\n",
      "[price]\n",
      "['$' '$$$' '$$' '$$$$']\n",
      "type:<class 'numpy.ndarray'>\n",
      "\n",
      "[ribbon_types]\n",
      "['NOT_RECORD' 'NOT' 'RIBBON_TWO' 'RIBBON_ONE' 'RIBBON_THREE' 'NEW'\n",
      " 'ATTENTION' nan]\n",
      "type:<class 'numpy.ndarray'>\n",
      "\n",
      "[star_types]\n",
      "[nan 'plate' 'bib' '1 star' '2 star']\n",
      "type:<class 'numpy.ndarray'>\n"
     ]
    }
   ],
   "source": [
    "category = sorted(set([c for ca in df['category'] for c in ca]))\n",
    "services = sorted(set([service for sublist in df['services'] for service in sublist]))\n",
    "parking = df['parking'].unique()\n",
    "price = df['price'].unique()\n",
    "ribbon_types = df['ribbonType'].unique()\n",
    "star_types = df['michelinType'].unique()\n",
    "\n",
    "print(f\"\\n[category]\\n{category}\\ntype:{type(category)}\")\n",
    "print(f\"\\n[services]\\n{services}\\ntype:{type(services)}\")\n",
    "print(f\"\\n[parking]\\n{parking}\\ntype:{type(parking)}\")\n",
    "print(f\"\\n[price]\\n{price}\\ntype:{type(price)}\")\n",
    "print(f\"\\n[ribbon_types]\\n{ribbon_types}\\ntype:{type(ribbon_types)}\")\n",
    "print(f\"\\n[star_types]\\n{star_types}\\ntype:{type(star_types)}\")"
   ]
  },
  {
   "cell_type": "code",
   "execution_count": 6,
   "metadata": {},
   "outputs": [],
   "source": [
    "df['businessHours'] = df['businessHours'].str.strip()\n",
    "df['dayOff'] = df['dayOff'].str.strip()\n",
    "df['menu'] = df['menu'].str.strip()\n",
    "df['review_b'] = df['review_b'].str.strip()\n",
    "df['review_m'] = df['review_m'].str.strip()"
   ]
  },
  {
   "cell_type": "code",
   "execution_count": 7,
   "metadata": {},
   "outputs": [],
   "source": [
    "df['id'] = df['id'].fillna(' ')\n",
    "df['name'] = df['name'].fillna(' ')\n",
    "df['category'] = df['category'].fillna(' ')\n",
    "df['phone'] = df['phone'].fillna(' ')\n",
    "df['address'] = df['address'].fillna(' ')\n",
    "df['latitude'] = df['latitude'].fillna(' ')\n",
    "df['longitude'] = df['longitude'].fillna(' ')\n",
    "df['businessHours'] = df['businessHours'].fillna(' ')\n",
    "df['dayOff'] = df['dayOff'].fillna(' ')\n",
    "df['parking'] = df['parking'].fillna(' ')\n",
    "df['parkingDetail'] = df['parkingDetail'].fillna(' ')\n",
    "df['menu'] = df['menu'].fillna(' ')\n",
    "df['price'] = df['price'].fillna(' ')\n",
    "df['review_b'] = df['review_b'].fillna(' ')\n",
    "df['review_m'] = df['review_m'].fillna(' ')\n",
    "df['ribbonType'] = df['ribbonType'].fillna(' ')\n",
    "df['michelinType'] = df['michelinType'].fillna(' ')"
   ]
  },
  {
   "cell_type": "code",
   "execution_count": 8,
   "metadata": {},
   "outputs": [],
   "source": [
    "df = df[['id', 'name', 'category', 'phone', 'address', 'latitude', 'longitude', \n",
    "         'businessHours', 'dayOff', 'services', 'parking', 'parkingDetail', 'menu', \n",
    "         'price', 'review_b', 'review_m', 'ribbonType', 'michelinType' ]]\n",
    "df.to_csv('./data/processed.csv', index=False)"
   ]
  }
 ],
 "metadata": {
  "kernelspec": {
   "display_name": ".venv",
   "language": "python",
   "name": "python3"
  },
  "language_info": {
   "codemirror_mode": {
    "name": "ipython",
    "version": 3
   },
   "file_extension": ".py",
   "mimetype": "text/x-python",
   "name": "python",
   "nbconvert_exporter": "python",
   "pygments_lexer": "ipython3",
   "version": "3.12.0"
  }
 },
 "nbformat": 4,
 "nbformat_minor": 2
}
